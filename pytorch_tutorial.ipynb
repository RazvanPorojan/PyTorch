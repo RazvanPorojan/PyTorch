{
  "nbformat": 4,
  "nbformat_minor": 0,
  "metadata": {
    "colab": {
      "name": "pytorch_tutorial.ipynb",
      "version": "0.3.2",
      "provenance": [],
      "include_colab_link": true
    },
    "kernelspec": {
      "name": "python3",
      "display_name": "Python 3"
    },
    "accelerator": "GPU"
  },
  "cells": [
    {
      "cell_type": "markdown",
      "metadata": {
        "id": "view-in-github",
        "colab_type": "text"
      },
      "source": [
        "<a href=\"https://colab.research.google.com/github/RazvanPorojan/PyTorch/blob/master/pytorch_tutorial.ipynb\" target=\"_parent\"><img src=\"https://colab.research.google.com/assets/colab-badge.svg\" alt=\"Open In Colab\"/></a>"
      ]
    },
    {
      "metadata": {
        "id": "U6h-PMtPNjI9",
        "colab_type": "code",
        "colab": {}
      },
      "cell_type": "code",
      "source": [
        "%matplotlib inline"
      ],
      "execution_count": 0,
      "outputs": []
    },
    {
      "metadata": {
        "id": "p8xJzewkNjJB",
        "colab_type": "text"
      },
      "cell_type": "markdown",
      "source": [
        "\n",
        "Introduction to PyTorch\n",
        "***********************\n",
        "\n",
        "Introduction to Torch's tensor library\n",
        "======================================\n",
        "\n",
        "All of deep learning is computations on tensors, which are\n",
        "generalizations of a matrix that can be indexed in more than 2\n",
        "dimensions. We will see exactly what this means in-depth later. First,\n",
        "lets look what we can do with tensors.\n",
        "\n"
      ]
    },
    {
      "metadata": {
        "id": "9P4CjjmYNjJD",
        "colab_type": "code",
        "colab": {
          "base_uri": "https://localhost:8080/",
          "height": 34
        },
        "outputId": "4b28c380-305b-43e2-bf68-63e09739d963"
      },
      "cell_type": "code",
      "source": [
        "# Author: Robert Guthrie\n",
        "\n",
        "import torch\n",
        "import torch.autograd as autograd\n",
        "import torch.nn as nn\n",
        "import torch.nn.functional as F\n",
        "import torch.optim as optim\n",
        "\n",
        "torch.manual_seed(1)"
      ],
      "execution_count": 2,
      "outputs": [
        {
          "output_type": "execute_result",
          "data": {
            "text/plain": [
              "<torch._C.Generator at 0x7f8b59ac5d50>"
            ]
          },
          "metadata": {
            "tags": []
          },
          "execution_count": 2
        }
      ]
    },
    {
      "metadata": {
        "id": "1KuLR5VcNjJH",
        "colab_type": "text"
      },
      "cell_type": "markdown",
      "source": [
        "Creating Tensors\n",
        "~~~~~~~~~~~~~~~~\n",
        "\n",
        "Tensors can be created from Python lists with the torch.Tensor()\n",
        "function.\n",
        "\n",
        "\n"
      ]
    },
    {
      "metadata": {
        "id": "Ifk05nnANjJI",
        "colab_type": "code",
        "colab": {
          "base_uri": "https://localhost:8080/",
          "height": 151
        },
        "outputId": "862fa391-403e-421d-a381-9969e5f5e859"
      },
      "cell_type": "code",
      "source": [
        "# torch.tensor(data) creates a torch.Tensor object with the given data.\n",
        "V_data = [1., 2., 3.]\n",
        "V = torch.tensor(V_data)\n",
        "print(V)\n",
        "\n",
        "# Creates a matrix\n",
        "M_data = [[1., 2., 3.], [4., 5., 6]]\n",
        "M = torch.tensor(M_data)\n",
        "print(M)\n",
        "\n",
        "# Create a 3D tensor of size 2x2x2.\n",
        "T_data = [[[1., 2.], [3., 4.]],\n",
        "          [[5., 6.], [7., 8.]]]\n",
        "T = torch.tensor(T_data)\n",
        "print(T)"
      ],
      "execution_count": 3,
      "outputs": [
        {
          "output_type": "stream",
          "text": [
            "tensor([1., 2., 3.])\n",
            "tensor([[1., 2., 3.],\n",
            "        [4., 5., 6.]])\n",
            "tensor([[[1., 2.],\n",
            "         [3., 4.]],\n",
            "\n",
            "        [[5., 6.],\n",
            "         [7., 8.]]])\n"
          ],
          "name": "stdout"
        }
      ]
    },
    {
      "metadata": {
        "id": "RgfzPlOENjJM",
        "colab_type": "text"
      },
      "cell_type": "markdown",
      "source": [
        "What is a 3D tensor anyway? Think about it like this. If you have a\n",
        "vector, indexing into the vector gives you a scalar. If you have a\n",
        "matrix, indexing into the matrix gives you a vector. If you have a 3D\n",
        "tensor, then indexing into the tensor gives you a matrix!\n",
        "\n",
        "A note on terminology:\n",
        "when I say \"tensor\" in this tutorial, it refers\n",
        "to any torch.Tensor object. Matrices and vectors are special cases of\n",
        "torch.Tensors, where their dimension is 1 and 2 respectively. When I am\n",
        "talking about 3D tensors, I will explicitly use the term \"3D tensor\".\n",
        "\n",
        "\n"
      ]
    },
    {
      "metadata": {
        "id": "gEael0oyNjJN",
        "colab_type": "code",
        "colab": {
          "base_uri": "https://localhost:8080/",
          "height": 101
        },
        "outputId": "011b94c3-491b-4220-e0d9-054c1a97757b"
      },
      "cell_type": "code",
      "source": [
        "# Index into V and get a scalar (0 dimensional tensor)\n",
        "print(V[0])\n",
        "# Get a Python number from it\n",
        "print(V[0].item())\n",
        "\n",
        "# Index into M and get a vector\n",
        "print(M[0])\n",
        "\n",
        "# Index into T and get a matrix\n",
        "print(T[0])"
      ],
      "execution_count": 4,
      "outputs": [
        {
          "output_type": "stream",
          "text": [
            "tensor(1.)\n",
            "1.0\n",
            "tensor([1., 2., 3.])\n",
            "tensor([[1., 2.],\n",
            "        [3., 4.]])\n"
          ],
          "name": "stdout"
        }
      ]
    },
    {
      "metadata": {
        "id": "XLH55XTbNjJV",
        "colab_type": "text"
      },
      "cell_type": "markdown",
      "source": [
        "You can also create tensors of other datatypes. The default, as you can\n",
        "see, is Float. To create a tensor of integer types, try\n",
        "torch.LongTensor(). Check the documentation for more data types, but\n",
        "Float and Long will be the most common.\n",
        "\n",
        "\n"
      ]
    },
    {
      "metadata": {
        "id": "bA3y7ca_NjJX",
        "colab_type": "text"
      },
      "cell_type": "markdown",
      "source": [
        "You can create a tensor with random data and the supplied dimensionality\n",
        "with torch.randn()\n",
        "\n",
        "\n"
      ]
    },
    {
      "metadata": {
        "id": "iqQVJZyvNjJZ",
        "colab_type": "code",
        "colab": {
          "base_uri": "https://localhost:8080/",
          "height": 252
        },
        "outputId": "564d78ab-c35f-4753-8fca-699d8cfeca01"
      },
      "cell_type": "code",
      "source": [
        "x = torch.randn((3, 4, 5))\n",
        "print(x)"
      ],
      "execution_count": 5,
      "outputs": [
        {
          "output_type": "stream",
          "text": [
            "tensor([[[-1.5256, -0.7502, -0.6540, -1.6095, -0.1002],\n",
            "         [-0.6092, -0.9798, -1.6091, -0.7121,  0.3037],\n",
            "         [-0.7773, -0.2515, -0.2223,  1.6871,  0.2284],\n",
            "         [ 0.4676, -0.6970, -1.1608,  0.6995,  0.1991]],\n",
            "\n",
            "        [[ 0.8657,  0.2444, -0.6629,  0.8073,  1.1017],\n",
            "         [-0.1759, -2.2456, -1.4465,  0.0612, -0.6177],\n",
            "         [-0.7981, -0.1316,  1.8793, -0.0721,  0.1578],\n",
            "         [-0.7735,  0.1991,  0.0457,  0.1530, -0.4757]],\n",
            "\n",
            "        [[-0.1110,  0.2927, -0.1578, -0.0288,  0.4533],\n",
            "         [ 1.1422,  0.2486, -1.7754, -0.0255, -1.0233],\n",
            "         [-0.5962, -1.0055,  0.4285,  1.4761, -1.7869],\n",
            "         [ 1.6103, -0.7040, -0.1853, -0.9962, -0.8313]]])\n"
          ],
          "name": "stdout"
        }
      ]
    },
    {
      "metadata": {
        "id": "__Nho6DpNjJi",
        "colab_type": "text"
      },
      "cell_type": "markdown",
      "source": [
        "Operations with Tensors\n",
        "~~~~~~~~~~~~~~~~~~~~~~~\n",
        "\n",
        "You can operate on tensors in the ways you would expect.\n",
        "\n"
      ]
    },
    {
      "metadata": {
        "id": "ltdrGCg1NjJm",
        "colab_type": "code",
        "colab": {
          "base_uri": "https://localhost:8080/",
          "height": 34
        },
        "outputId": "bc51501b-cd4f-4a6f-8314-1df1d7364c5f"
      },
      "cell_type": "code",
      "source": [
        "x = torch.tensor([1., 2., 3.])\n",
        "y = torch.tensor([4., 5., 6.])\n",
        "z = x + y\n",
        "print(z)"
      ],
      "execution_count": 6,
      "outputs": [
        {
          "output_type": "stream",
          "text": [
            "tensor([5., 7., 9.])\n"
          ],
          "name": "stdout"
        }
      ]
    },
    {
      "metadata": {
        "id": "83N6QlfvNjJs",
        "colab_type": "text"
      },
      "cell_type": "markdown",
      "source": [
        "See `the documentation <https://pytorch.org/docs/torch.html>`__ for a\n",
        "complete list of the massive number of operations available to you. They\n",
        "expand beyond just mathematical operations.\n",
        "\n",
        "One helpful operation that we will make use of later is concatenation.\n",
        "\n",
        "\n"
      ]
    },
    {
      "metadata": {
        "id": "FCWPpnElNjJu",
        "colab_type": "code",
        "colab": {
          "base_uri": "https://localhost:8080/",
          "height": 134
        },
        "outputId": "a07973cb-4f08-4fd1-fb39-0eba1830c61d"
      },
      "cell_type": "code",
      "source": [
        "# By default, it concatenates along the first axis (concatenates rows)\n",
        "x_1 = torch.randn(2, 5)\n",
        "y_1 = torch.randn(3, 5)\n",
        "z_1 = torch.cat([x_1, y_1])\n",
        "print(z_1)\n",
        "\n",
        "# Concatenate columns:\n",
        "x_2 = torch.randn(2, 3)\n",
        "y_2 = torch.randn(2, 5)\n",
        "# second arg specifies which axis to concat along\n",
        "z_2 = torch.cat([x_2, y_2], 1)\n",
        "print(z_2)\n",
        "\n",
        "# If your tensors are not compatible, torch will complain.  Uncomment to see the error\n",
        "# torch.cat([x_1, x_2])"
      ],
      "execution_count": 7,
      "outputs": [
        {
          "output_type": "stream",
          "text": [
            "tensor([[-0.8029,  0.2366,  0.2857,  0.6898, -0.6331],\n",
            "        [ 0.8795, -0.6842,  0.4533,  0.2912, -0.8317],\n",
            "        [-0.5525,  0.6355, -0.3968, -0.6571, -1.6428],\n",
            "        [ 0.9803, -0.0421, -0.8206,  0.3133, -1.1352],\n",
            "        [ 0.3773, -0.2824, -2.5667, -1.4303,  0.5009]])\n",
            "tensor([[ 0.5438, -0.4057,  1.1341, -0.1473,  0.6272,  1.0935,  0.0939,  1.2381],\n",
            "        [-1.1115,  0.3501, -0.7703, -1.3459,  0.5119, -0.6933, -0.1668, -0.9999]])\n"
          ],
          "name": "stdout"
        }
      ]
    },
    {
      "metadata": {
        "id": "CHHXaChgNjJ0",
        "colab_type": "text"
      },
      "cell_type": "markdown",
      "source": [
        "Reshaping Tensors\n",
        "~~~~~~~~~~~~~~~~~\n",
        "\n",
        "Use the .view() method to reshape a tensor. This method receives heavy\n",
        "use, because many neural network components expect their inputs to have\n",
        "a certain shape. Often you will need to reshape before passing your data\n",
        "to the component.\n",
        "\n",
        "\n"
      ]
    },
    {
      "metadata": {
        "id": "sJuEqgceNjJ3",
        "colab_type": "code",
        "colab": {
          "base_uri": "https://localhost:8080/",
          "height": 269
        },
        "outputId": "1b668269-7769-4b36-bf3f-0fbb054e5550"
      },
      "cell_type": "code",
      "source": [
        "x = torch.randn(2, 3, 4)\n",
        "print(x)\n",
        "print(x.view(2, 12))  # Reshape to 2 rows, 12 columns\n",
        "# Same as above.  If one of the dimensions is -1, its size can be inferred\n",
        "print(x.view(2, -1))"
      ],
      "execution_count": 8,
      "outputs": [
        {
          "output_type": "stream",
          "text": [
            "tensor([[[ 0.4175, -0.2127, -0.8400, -0.4200],\n",
            "         [-0.6240, -0.9773,  0.8748,  0.9873],\n",
            "         [-0.0594, -2.4919,  0.2423,  0.2883]],\n",
            "\n",
            "        [[-0.1095,  0.3126,  1.5038,  0.5038],\n",
            "         [ 0.6223, -0.4481, -0.2856,  0.3880],\n",
            "         [-1.1435, -0.6512, -0.1032,  0.6937]]])\n",
            "tensor([[ 0.4175, -0.2127, -0.8400, -0.4200, -0.6240, -0.9773,  0.8748,  0.9873,\n",
            "         -0.0594, -2.4919,  0.2423,  0.2883],\n",
            "        [-0.1095,  0.3126,  1.5038,  0.5038,  0.6223, -0.4481, -0.2856,  0.3880,\n",
            "         -1.1435, -0.6512, -0.1032,  0.6937]])\n",
            "tensor([[ 0.4175, -0.2127, -0.8400, -0.4200, -0.6240, -0.9773,  0.8748,  0.9873,\n",
            "         -0.0594, -2.4919,  0.2423,  0.2883],\n",
            "        [-0.1095,  0.3126,  1.5038,  0.5038,  0.6223, -0.4481, -0.2856,  0.3880,\n",
            "         -1.1435, -0.6512, -0.1032,  0.6937]])\n"
          ],
          "name": "stdout"
        }
      ]
    },
    {
      "metadata": {
        "id": "FwZDL7AINjJ9",
        "colab_type": "text"
      },
      "cell_type": "markdown",
      "source": [
        "Computation Graphs and Automatic Differentiation\n",
        "================================================\n",
        "\n",
        "The concept of a computation graph is essential to efficient deep\n",
        "learning programming, because it allows you to not have to write the\n",
        "back propagation gradients yourself. A computation graph is simply a\n",
        "specification of how your data is combined to give you the output. Since\n",
        "the graph totally specifies what parameters were involved with which\n",
        "operations, it contains enough information to compute derivatives. This\n",
        "probably sounds vague, so let's see what is going on using the\n",
        "fundamental flag ``requires_grad``.\n",
        "\n",
        "First, think from a programmers perspective. What is stored in the\n",
        "torch.Tensor objects we were creating above? Obviously the data and the\n",
        "shape, and maybe a few other things. But when we added two tensors\n",
        "together, we got an output tensor. All this output tensor knows is its\n",
        "data and shape. It has no idea that it was the sum of two other tensors\n",
        "(it could have been read in from a file, it could be the result of some\n",
        "other operation, etc.)\n",
        "\n",
        "If ``requires_grad=True``, the Tensor object keeps track of how it was\n",
        "created. Lets see it in action.\n",
        "\n",
        "\n"
      ]
    },
    {
      "metadata": {
        "id": "M70GOHUGNjJ-",
        "colab_type": "code",
        "colab": {
          "base_uri": "https://localhost:8080/",
          "height": 50
        },
        "outputId": "27f1040a-d537-4e1d-9c95-23dbbb58aaef"
      },
      "cell_type": "code",
      "source": [
        "# Tensor factory methods have a ``requires_grad`` flag\n",
        "x = torch.tensor([1., 2., 3], requires_grad=True)\n",
        "\n",
        "# With requires_grad=True, you can still do all the operations you previously\n",
        "# could\n",
        "y = torch.tensor([4., 5., 6], requires_grad=True)\n",
        "z = x + y\n",
        "print(z)\n",
        "\n",
        "# BUT z knows something extra.\n",
        "print(z.grad_fn)"
      ],
      "execution_count": 9,
      "outputs": [
        {
          "output_type": "stream",
          "text": [
            "tensor([5., 7., 9.], grad_fn=<AddBackward0>)\n",
            "<AddBackward0 object at 0x7f8b13d7bf28>\n"
          ],
          "name": "stdout"
        }
      ]
    },
    {
      "metadata": {
        "id": "Qb8sBiyINjKJ",
        "colab_type": "text"
      },
      "cell_type": "markdown",
      "source": [
        "So Tensors know what created them. z knows that it wasn't read in from\n",
        "a file, it wasn't the result of a multiplication or exponential or\n",
        "whatever. And if you keep following z.grad_fn, you will find yourself at\n",
        "x and y.\n",
        "\n",
        "But how does that help us compute a gradient?\n",
        "\n",
        "\n"
      ]
    },
    {
      "metadata": {
        "id": "QHUsWnzSNjKK",
        "colab_type": "code",
        "colab": {
          "base_uri": "https://localhost:8080/",
          "height": 50
        },
        "outputId": "62f0fb06-238c-413f-c0ed-f81ad41ed376"
      },
      "cell_type": "code",
      "source": [
        "# Lets sum up all the entries in z\n",
        "s = z.sum()\n",
        "print(s)\n",
        "print(s.grad_fn)"
      ],
      "execution_count": 10,
      "outputs": [
        {
          "output_type": "stream",
          "text": [
            "tensor(21., grad_fn=<SumBackward0>)\n",
            "<SumBackward0 object at 0x7f8b13d7bf98>\n"
          ],
          "name": "stdout"
        }
      ]
    },
    {
      "metadata": {
        "id": "rCIkEe1pNjKO",
        "colab_type": "text"
      },
      "cell_type": "markdown",
      "source": [
        "So now, what is the derivative of this sum with respect to the first\n",
        "component of x? In math, we want\n",
        "\n",
        "\\begin{align}\\frac{\\partial s}{\\partial x_0}\\end{align}\n",
        "\n",
        "\n",
        "\n",
        "Well, s knows that it was created as a sum of the tensor z. z knows\n",
        "that it was the sum x + y. So\n",
        "\n",
        "\\begin{align}s = \\overbrace{x_0 + y_0}^\\text{$z_0$} + \\overbrace{x_1 + y_1}^\\text{$z_1$} + \\overbrace{x_2 + y_2}^\\text{$z_2$}\\end{align}\n",
        "\n",
        "And so s contains enough information to determine that the derivative\n",
        "we want is 1!\n",
        "\n",
        "Of course this glosses over the challenge of how to actually compute\n",
        "that derivative. The point here is that s is carrying along enough\n",
        "information that it is possible to compute it. In reality, the\n",
        "developers of Pytorch program the sum() and + operations to know how to\n",
        "compute their gradients, and run the back propagation algorithm. An\n",
        "in-depth discussion of that algorithm is beyond the scope of this\n",
        "tutorial.\n",
        "\n",
        "\n"
      ]
    },
    {
      "metadata": {
        "id": "4Z7SZY0dNjKP",
        "colab_type": "text"
      },
      "cell_type": "markdown",
      "source": [
        "Lets have Pytorch compute the gradient, and see that we were right:\n",
        "(note if you run this block multiple times, the gradient will increment.\n",
        "That is because Pytorch *accumulates* the gradient into the .grad\n",
        "property, since for many models this is very convenient.)\n",
        "\n",
        "\n"
      ]
    },
    {
      "metadata": {
        "id": "0xmuy9StNjKQ",
        "colab_type": "code",
        "colab": {}
      },
      "cell_type": "code",
      "source": [
        "# calling .backward() on any variable will run backprop, starting from it.\n",
        "s.backward()\n",
        "print(x.grad)"
      ],
      "execution_count": 0,
      "outputs": []
    },
    {
      "metadata": {
        "id": "ZWZmnlKbNjKU",
        "colab_type": "text"
      },
      "cell_type": "markdown",
      "source": [
        "Understanding what is going on in the block below is crucial for being a\n",
        "successful programmer in deep learning.\n",
        "\n",
        "\n"
      ]
    },
    {
      "metadata": {
        "id": "uCrQLHB5NjKW",
        "colab_type": "code",
        "colab": {}
      },
      "cell_type": "code",
      "source": [
        "x = torch.randn(2, 2)\n",
        "y = torch.randn(2, 2)\n",
        "# By default, user created Tensors have ``requires_grad=False``\n",
        "print(x.requires_grad, y.requires_grad)\n",
        "z = x + y\n",
        "# So you can't backprop through z\n",
        "print(z.grad_fn)\n",
        "\n",
        "# ``.requires_grad_( ... )`` changes an existing Tensor's ``requires_grad``\n",
        "# flag in-place. The input flag defaults to ``True`` if not given.\n",
        "x = x.requires_grad_()\n",
        "y = y.requires_grad_()\n",
        "# z contains enough information to compute gradients, as we saw above\n",
        "z = x + y\n",
        "print(z.grad_fn)\n",
        "# If any input to an operation has ``requires_grad=True``, so will the output\n",
        "print(z.requires_grad)\n",
        "\n",
        "# Now z has the computation history that relates itself to x and y\n",
        "# Can we just take its values, and **detach** it from its history?\n",
        "new_z = z.detach()\n",
        "\n",
        "# ... does new_z have information to backprop to x and y?\n",
        "# NO!\n",
        "print(new_z.grad_fn)\n",
        "# And how could it? ``z.detach()`` returns a tensor that shares the same storage\n",
        "# as ``z``, but with the computation history forgotten. It doesn't know anything\n",
        "# about how it was computed.\n",
        "# In essence, we have broken the Tensor away from its past history"
      ],
      "execution_count": 0,
      "outputs": []
    },
    {
      "metadata": {
        "id": "vYtdTz15NjKa",
        "colab_type": "text"
      },
      "cell_type": "markdown",
      "source": [
        "You can also stop autograd from tracking history on Tensors\n",
        "with ``.requires_grad``=True by wrapping the code block in\n",
        "``with torch.no_grad():``\n",
        "\n"
      ]
    },
    {
      "metadata": {
        "id": "uJOl2Oq4NjKb",
        "colab_type": "code",
        "colab": {}
      },
      "cell_type": "code",
      "source": [
        "print(x.requires_grad)\n",
        "print((x ** 2).requires_grad)\n",
        "\n",
        "with torch.no_grad():\n",
        "\tprint((x ** 2).requires_grad)"
      ],
      "execution_count": 0,
      "outputs": []
    }
  ]
}